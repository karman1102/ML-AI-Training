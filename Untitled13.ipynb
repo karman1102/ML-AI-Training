{
 "cells": [
  {
   "cell_type": "code",
   "execution_count": 1,
   "metadata": {},
   "outputs": [],
   "source": [
    "from textblob import TextBlob"
   ]
  },
  {
   "cell_type": "code",
   "execution_count": 2,
   "metadata": {},
   "outputs": [
    {
     "data": {
      "text/plain": [
       "Sentiment(polarity=-0.4, subjectivity=0.6)"
      ]
     },
     "execution_count": 2,
     "metadata": {},
     "output_type": "execute_result"
    }
   ],
   "source": [
    "TextBlob(\"what the fuck\").sentiment"
   ]
  },
  {
   "cell_type": "code",
   "execution_count": 28,
   "metadata": {},
   "outputs": [
    {
     "data": {
      "text/plain": [
       "Sentiment(polarity=0.0, subjectivity=0.0)"
      ]
     },
     "execution_count": 28,
     "metadata": {},
     "output_type": "execute_result"
    }
   ],
   "source": [
    "TextBlob(\"dick\").sentiment"
   ]
  },
  {
   "cell_type": "code",
   "execution_count": 30,
   "metadata": {},
   "outputs": [],
   "source": [
    "import time\n",
    "from tweepy import Stream\n",
    "from tweepy import OAuthHandler\n",
    "from tweepy.streaming import StreamListener\n",
    "import json\n",
    "from textblob import TextBlob\n",
    "import matplotlib.pyplot as plt\n",
    "import re"
   ]
  },
  {
   "cell_type": "code",
   "execution_count": 31,
   "metadata": {},
   "outputs": [
    {
     "data": {
      "text/plain": [
       "' -- coding: utf-8 --'"
      ]
     },
     "execution_count": 31,
     "metadata": {},
     "output_type": "execute_result"
    }
   ],
   "source": [
    "\" -- coding: utf-8 --\""
   ]
  },
  {
   "cell_type": "code",
   "execution_count": 32,
   "metadata": {},
   "outputs": [],
   "source": [
    "def calctime(a):\n",
    "    return time.time()-a"
   ]
  },
  {
   "cell_type": "code",
   "execution_count": 33,
   "metadata": {},
   "outputs": [],
   "source": [
    "positive = 0\n",
    "negative = 0\n",
    "compound = 0\n"
   ]
  },
  {
   "cell_type": "code",
   "execution_count": 34,
   "metadata": {},
   "outputs": [],
   "source": [
    "initime = time.time()"
   ]
  },
  {
   "cell_type": "code",
   "execution_count": 35,
   "metadata": {},
   "outputs": [],
   "source": [
    "count = 0\n",
    "plt.ion() #interactive graph, REAL TIME"
   ]
  },
  {
   "cell_type": "code",
   "execution_count": 36,
   "metadata": {},
   "outputs": [],
   "source": [
    "akey=' 125341108-nMTty0tkGsVbyZCPrv37DzNGR9XduEBrHShJywCD'\n",
    "asecret='3I0NblEj46IiuR9s4scSBxhZWFlh2SyAjjpXz8fKUCOMF'\n",
    "ctoken='29o6ed6XzUQhviiFfvoFefird'\n",
    "csecret='VRRfdlZIONvF3gYscYfHKo3Mzg7sZiCKwrNmIWeRG3qqxI3p13'"
   ]
  },
  {
   "cell_type": "code",
   "execution_count": 38,
   "metadata": {},
   "outputs": [
    {
     "ename": "SyntaxError",
     "evalue": "invalid syntax (<ipython-input-38-f7f7a8ac4d08>, line 1)",
     "output_type": "error",
     "traceback": [
      "\u001b[1;36m  File \u001b[1;32m\"<ipython-input-38-f7f7a8ac4d08>\"\u001b[1;36m, line \u001b[1;32m1\u001b[0m\n\u001b[1;33m    class listener(StreamListener)\u001b[0m\n\u001b[1;37m                                  ^\u001b[0m\n\u001b[1;31mSyntaxError\u001b[0m\u001b[1;31m:\u001b[0m invalid syntax\n"
     ]
    }
   ],
   "source": [
    "class listener(StreamListener)\n",
    "\n",
    "    def on_data(self,data): #self is a self referential pointer like 'this'. data is also imported\n",
    "        global initime\n",
    "        \n",
    "        t = int(calctime(initime))\n",
    "        \n",
    "        all_data = json.loads(data)\n",
    "        tweet = all_data[\"text\"] #text is a parameter which contains a lot of information like, username, who has sent the data,  time of poost, name of tweet\n",
    "        tweet = \"  \".join(re.findall('[a-zA-Z]+',tweet)) #findall, finds all sentences from a to z to ignore URL and joins with spaces\n",
    "        blob = TextBlob(tweet.strip()) #breaks the sentence and strips every word\n",
    "        \n",
    "        global positive\n",
    "        global negative\n",
    "        global compound\n",
    "        global count\n",
    "        \n",
    "        count = count+1\n",
    "        senti = 0\n",
    "        \n",
    "        for sen in blob.sentences: #reading line by line because the tweet could jhave multiple sentences\n",
    "            senti = senti + sen.sentiment.polarity\n",
    "            if sen.sentiment.polarity >=0:\n",
    "                positive = positive +sen.sentiment.polarity #reading line by line because the tweet could jhave multiple sentences\n",
    "            else :\n",
    "                negative = negative+sen.sentiment.polarity\n",
    "            compound = compound + senti #tells the overall sentiment\n",
    "            \n",
    "        print(count)\n",
    "        print(tweet.strip())\n",
    "        print(senti)\n",
    "        print(t)\n",
    "        print(str(positive) + ' 'str(negative)+ ' '+str(compound))\n",
    "        plt.axis([0,70,-20,20])\n",
    "        plt.xlabel('Time')\n",
    "        plt.ylabel('Sentiment')\n",
    "        plt.plot([t],[positive],'go',[t],[negative],'ro',[t],[compound],'bo')\n",
    "        plt.show()\n",
    "        plt.pause(0.0001)\n",
    "        if count == 200:\n",
    "            return False\n",
    "        else:\n",
    "            return True\n",
    "    def on_error(self,status):\n",
    "        print(status)\n",
    "auth = OAuthHandler(ckey,csecret) #taking authorization \n",
    "auth.set_accesss_token(atoken,asecret)\n",
    "\n",
    "searchTerm = input(\"enter keyword/tag to search about: \")\n",
    "NoOfTerms = int(input(\"Enter number of tweets to search\"))\n",
    "\n",
    "twitterStream = Stream(auth,listener(NoOfTerms))\n",
    "twitterStream.filter(track = [searchTerm]) "
   ]
  },
  {
   "cell_type": "code",
   "execution_count": null,
   "metadata": {},
   "outputs": [],
   "source": []
  }
 ],
 "metadata": {
  "kernelspec": {
   "display_name": "Python 3",
   "language": "python",
   "name": "python3"
  },
  "language_info": {
   "codemirror_mode": {
    "name": "ipython",
    "version": 3
   },
   "file_extension": ".py",
   "mimetype": "text/x-python",
   "name": "python",
   "nbconvert_exporter": "python",
   "pygments_lexer": "ipython3",
   "version": "3.5.2"
  }
 },
 "nbformat": 4,
 "nbformat_minor": 2
}
