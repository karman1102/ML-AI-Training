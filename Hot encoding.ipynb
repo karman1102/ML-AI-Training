{
 "cells": [
  {
   "cell_type": "code",
   "execution_count": 1,
   "metadata": {},
   "outputs": [],
   "source": [
    "from sklearn import preprocessing "
   ]
  },
  {
   "cell_type": "code",
   "execution_count": 2,
   "metadata": {},
   "outputs": [],
   "source": [
    "labels = ['cat', 'dog', 'horse', 'cat', 'dog']"
   ]
  },
  {
   "cell_type": "code",
   "execution_count": 3,
   "metadata": {},
   "outputs": [
    {
     "data": {
      "text/plain": [
       "array([0, 1, 2, 0, 1], dtype=int64)"
      ]
     },
     "execution_count": 3,
     "metadata": {},
     "output_type": "execute_result"
    }
   ],
   "source": [
    "label_encoder = preprocessing.LabelEncoder()\n",
    "label_encoder.fit_transform(labels) #giving labels to the 'labels'"
   ]
  },
  {
   "cell_type": "code",
   "execution_count": 4,
   "metadata": {},
   "outputs": [
    {
     "name": "stdout",
     "output_type": "stream",
     "text": [
      "cat -> 0\n",
      "dog -> 1\n",
      "horse -> 2\n"
     ]
    }
   ],
   "source": [
    "for i, item in enumerate(label_encoder.classes_): #enumerate returns object and value\n",
    "    print item, '->',i"
   ]
  },
  {
   "cell_type": "code",
   "execution_count": 5,
   "metadata": {},
   "outputs": [],
   "source": [
    "labels2 = ['cat', 'dog', 'horse', 'cat', 'dog', 'horse', 'cat', 'dog']"
   ]
  },
  {
   "cell_type": "code",
   "execution_count": 15,
   "metadata": {},
   "outputs": [
    {
     "name": "stdout",
     "output_type": "stream",
     "text": [
      "  (0, 0)\t1.0\n",
      "  (1, 1)\t1.0\n",
      "  (2, 2)\t1.0\n",
      "  (3, 0)\t1.0\n",
      "  (4, 1)\t1.0\n",
      "  (5, 2)\t1.0\n",
      "  (6, 0)\t1.0\n",
      "  (7, 1)\t1.0\n"
     ]
    }
   ],
   "source": [
    "from sklearn.preprocessing import OneHotEncoder\n",
    "from sklearn.preprocessing import LabelEncoder\n",
    "\n",
    "labels2 = ['cat', 'dog', 'horse', 'cat', 'dog', 'horse', 'cat', 'dog']\n",
    "label_encoder = LabelEncoder()\n",
    "label_encoder2 = label_encoder.fit_transform(labels2)\n",
    "oneHot_Encoder = OneHotEncoder()\n",
    "label_encoder2 = label_encoder2.reshape(len(label_encoder2),1)\n",
    "oneHot_Encoder = oneHot_Encoder.fit_transform(label_encoder2)\n",
    "print oneHot_Encoder"
   ]
  },
  {
   "cell_type": "code",
   "execution_count": 16,
   "metadata": {},
   "outputs": [
    {
     "name": "stdout",
     "output_type": "stream",
     "text": [
      "[[1. 0. 0.]\n",
      " [0. 1. 0.]\n",
      " [0. 0. 1.]\n",
      " [1. 0. 0.]\n",
      " [0. 1. 0.]\n",
      " [0. 0. 1.]\n",
      " [1. 0. 0.]\n",
      " [0. 1. 0.]]\n"
     ]
    }
   ],
   "source": [
    "from sklearn.preprocessing import OneHotEncoder\n",
    "from sklearn.preprocessing import LabelEncoder\n",
    "# for explanation of sparse = False where the location of 1 is specified only\n",
    "labels2 = ['cat', 'dog', 'horse', 'cat', 'dog', 'horse', 'cat', 'dog']\n",
    "label_encoder = LabelEncoder()\n",
    "label_encoder2 = label_encoder.fit_transform(labels2)\n",
    "oneHot_Encoder = OneHotEncoder(sparse = False)\n",
    "label_encoder2 = label_encoder2.reshape(len(label_encoder2),1) #reshaping from row vector to column vector\n",
    "oneHot_Encoder = oneHot_Encoder.fit_transform(label_encoder2)\n",
    "print oneHot_Encoder\n",
    "\n",
    "#one column is always dummy i.e for n number of columns, n-1 is compulsory to use the rest is ambigious and can be removed"
   ]
  },
  {
   "cell_type": "code",
   "execution_count": null,
   "metadata": {},
   "outputs": [],
   "source": []
  }
 ],
 "metadata": {
  "kernelspec": {
   "display_name": "Python 2",
   "language": "python",
   "name": "python2"
  },
  "language_info": {
   "codemirror_mode": {
    "name": "ipython",
    "version": 2
   },
   "file_extension": ".py",
   "mimetype": "text/x-python",
   "name": "python",
   "nbconvert_exporter": "python",
   "pygments_lexer": "ipython2",
   "version": "2.7.15"
  }
 },
 "nbformat": 4,
 "nbformat_minor": 2
}
